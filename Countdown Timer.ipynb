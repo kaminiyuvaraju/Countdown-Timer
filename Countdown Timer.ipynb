{
 "cells": [
  {
   "cell_type": "code",
   "execution_count": 18,
   "id": "2a0d49f7",
   "metadata": {},
   "outputs": [
    {
     "name": "stdout",
     "output_type": "stream",
     "text": [
      "Time left: 10 seconds\n",
      "Time left: 9 seconds\n",
      "Time left: 8 seconds\n",
      "Time left: 7 seconds\n",
      "Time left: 6 seconds\n",
      "Time left: 5 seconds\n",
      "Time left: 4 seconds\n"
     ]
    }
   ],
   "source": [
    "import threading\n",
    "import time\n",
    "\n",
    "class CountdownTimer:\n",
    "    def __init__(self, seconds):\n",
    "        self.seconds = seconds\n",
    "        self.is_running = False\n",
    "        self.is_paused = False\n",
    "        self.timer_thread = None\n",
    "\n",
    "    def start(self):\n",
    "        self.is_running = True\n",
    "        self.is_paused = False\n",
    "        self.timer_thread = threading.Thread(target=self.run_timer)\n",
    "        self.timer_thread.start()\n",
    "\n",
    "    def run_timer(self):\n",
    "        while self.seconds > 0 and self.is_running:\n",
    "            if not self.is_paused:\n",
    "                print(f\"Time left: {self.seconds} seconds\")\n",
    "                self.seconds -= 1\n",
    "                time.sleep(1)\n",
    "        if self.is_running:\n",
    "            print(\"Time's up!\")\n",
    "\n",
    "    def pause(self):\n",
    "        self.is_paused = True\n",
    "\n",
    "    def resume(self):\n",
    "        self.is_paused = False\n",
    "\n",
    "    def stop(self):\n",
    "        self.is_running = False\n",
    "        if self.timer_thread:\n",
    "            self.timer_thread.join()\n",
    "\n",
    "    def reset(self):\n",
    "        self.stop()\n",
    "        self.seconds = 0\n",
    "\n",
    "if __name__ == \"__main__\":\n",
    "    timer = CountdownTimer(10)\n",
    "    timer.start()\n",
    "\n",
    "    # Simulate some actions on the timer\n",
    "    time.sleep(3)\n",
    "    timer.pause()\n",
    "    time.sleep(2)\n",
    "    timer.resume()\n",
    "    time.sleep(3)\n",
    "    timer.stop()\n",
    "    time.sleep(2)\n",
    "    timer.reset()\n"
   ]
  },
  {
   "cell_type": "code",
   "execution_count": null,
   "id": "42963987",
   "metadata": {},
   "outputs": [],
   "source": []
  }
 ],
 "metadata": {
  "kernelspec": {
   "display_name": "Python 3 (ipykernel)",
   "language": "python",
   "name": "python3"
  },
  "language_info": {
   "codemirror_mode": {
    "name": "ipython",
    "version": 3
   },
   "file_extension": ".py",
   "mimetype": "text/x-python",
   "name": "python",
   "nbconvert_exporter": "python",
   "pygments_lexer": "ipython3",
   "version": "3.9.13"
  }
 },
 "nbformat": 4,
 "nbformat_minor": 5
}
